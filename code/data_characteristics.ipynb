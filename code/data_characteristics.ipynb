{
 "cells": [
  {
   "cell_type": "code",
   "execution_count": 1,
   "metadata": {
    "vscode": {
     "languageId": "r"
    }
   },
   "outputs": [
    {
     "name": "stderr",
     "output_type": "stream",
     "text": [
      "── \u001b[1mAttaching core tidyverse packages\u001b[22m ──────────────────────── tidyverse 2.0.0 ──\n",
      "\u001b[32m✔\u001b[39m \u001b[34mdplyr    \u001b[39m 1.1.4     \u001b[32m✔\u001b[39m \u001b[34mreadr    \u001b[39m 2.1.5\n",
      "\u001b[32m✔\u001b[39m \u001b[34mforcats  \u001b[39m 1.0.0     \u001b[32m✔\u001b[39m \u001b[34mstringr  \u001b[39m 1.5.1\n",
      "\u001b[32m✔\u001b[39m \u001b[34mggplot2  \u001b[39m 3.5.1     \u001b[32m✔\u001b[39m \u001b[34mtibble   \u001b[39m 3.2.1\n",
      "\u001b[32m✔\u001b[39m \u001b[34mlubridate\u001b[39m 1.9.4     \u001b[32m✔\u001b[39m \u001b[34mtidyr    \u001b[39m 1.3.1\n",
      "\u001b[32m✔\u001b[39m \u001b[34mpurrr    \u001b[39m 1.0.4     \n",
      "── \u001b[1mConflicts\u001b[22m ────────────────────────────────────────── tidyverse_conflicts() ──\n",
      "\u001b[31m✖\u001b[39m \u001b[34mdplyr\u001b[39m::\u001b[32mfilter()\u001b[39m masks \u001b[34mstats\u001b[39m::filter()\n",
      "\u001b[31m✖\u001b[39m \u001b[34mdplyr\u001b[39m::\u001b[32mlag()\u001b[39m    masks \u001b[34mstats\u001b[39m::lag()\n",
      "\u001b[36mℹ\u001b[39m Use the conflicted package (\u001b[3m\u001b[34m<http://conflicted.r-lib.org/>\u001b[39m\u001b[23m) to force all conflicts to become errors\n"
     ]
    }
   ],
   "source": [
    "library(tidyverse)"
   ]
  },
  {
   "cell_type": "code",
   "execution_count": 4,
   "metadata": {
    "vscode": {
     "languageId": "r"
    }
   },
   "outputs": [
    {
     "name": "stderr",
     "output_type": "stream",
     "text": [
      "\u001b[1mRows: \u001b[22m\u001b[34m1259\u001b[39m \u001b[1mColumns: \u001b[22m\u001b[34m9\u001b[39m\n",
      "\u001b[36m──\u001b[39m \u001b[1mColumn specification\u001b[22m \u001b[36m────────────────────────────────────────────────────────\u001b[39m\n",
      "\u001b[1mDelimiter:\u001b[22m \"\\t\"\n",
      "\u001b[31mchr\u001b[39m (5): pseudo_id, sex, staging, pseudo_patid, set\n",
      "\u001b[32mdbl\u001b[39m (4): age, px, psa, label\n",
      "\n",
      "\u001b[36mℹ\u001b[39m Use `spec()` to retrieve the full column specification for this data.\n",
      "\u001b[36mℹ\u001b[39m Specify the column types or set `show_col_types = FALSE` to quiet this message.\n",
      "\u001b[1mRows: \u001b[22m\u001b[34m200\u001b[39m \u001b[1mColumns: \u001b[22m\u001b[34m10\u001b[39m\n",
      "\u001b[36m──\u001b[39m \u001b[1mColumn specification\u001b[22m \u001b[36m────────────────────────────────────────────────────────\u001b[39m\n",
      "\u001b[1mDelimiter:\u001b[22m \"\\t\"\n",
      "\u001b[31mchr\u001b[39m (5): pseudo_id, sex, staging, pseudo_patid, set\n",
      "\u001b[32mdbl\u001b[39m (4): px, psa, label, age\n",
      "\u001b[33mlgl\u001b[39m (1): unknown\n",
      "\n",
      "\u001b[36mℹ\u001b[39m Use `spec()` to retrieve the full column specification for this data.\n",
      "\u001b[36mℹ\u001b[39m Specify the column types or set `show_col_types = FALSE` to quiet this message.\n"
     ]
    }
   ],
   "source": [
    "data <- read_tsv(\"data/labels.tsv\") %>%\n",
    "\tbind_rows(read_tsv(\"data/labels_ts2024.tsv\"))"
   ]
  },
  {
   "cell_type": "markdown",
   "metadata": {},
   "source": [
    "## Patients"
   ]
  },
  {
   "cell_type": "code",
   "execution_count": 8,
   "metadata": {
    "vscode": {
     "languageId": "r"
    }
   },
   "outputs": [
    {
     "data": {
      "text/html": [
       "<table class=\"dataframe\">\n",
       "<caption>A tibble: 1 × 1</caption>\n",
       "<thead>\n",
       "\t<tr><th scope=col>n_distinct(pseudo_patid)</th></tr>\n",
       "\t<tr><th scope=col>&lt;int&gt;</th></tr>\n",
       "</thead>\n",
       "<tbody>\n",
       "\t<tr><td>1189</td></tr>\n",
       "</tbody>\n",
       "</table>\n"
      ],
      "text/latex": [
       "A tibble: 1 × 1\n",
       "\\begin{tabular}{l}\n",
       " n\\_distinct(pseudo\\_patid)\\\\\n",
       " <int>\\\\\n",
       "\\hline\n",
       "\t 1189\\\\\n",
       "\\end{tabular}\n"
      ],
      "text/markdown": [
       "\n",
       "A tibble: 1 × 1\n",
       "\n",
       "| n_distinct(pseudo_patid) &lt;int&gt; |\n",
       "|---|\n",
       "| 1189 |\n",
       "\n"
      ],
      "text/plain": [
       "  n_distinct(pseudo_patid)\n",
       "1 1189                    "
      ]
     },
     "metadata": {},
     "output_type": "display_data"
    }
   ],
   "source": [
    "data %>%\n",
    "\tsummarize(n_distinct(pseudo_patid))"
   ]
  },
  {
   "cell_type": "code",
   "execution_count": 7,
   "metadata": {
    "vscode": {
     "languageId": "r"
    }
   },
   "outputs": [
    {
     "data": {
      "text/html": [
       "<table class=\"dataframe\">\n",
       "<caption>A tibble: 3 × 2</caption>\n",
       "<thead>\n",
       "\t<tr><th scope=col>set</th><th scope=col>n_distinct(pseudo_patid)</th></tr>\n",
       "\t<tr><th scope=col>&lt;chr&gt;</th><th scope=col>&lt;int&gt;</th></tr>\n",
       "</thead>\n",
       "<tbody>\n",
       "\t<tr><td>train</td><td>904</td></tr>\n",
       "\t<tr><td>val  </td><td>170</td></tr>\n",
       "\t<tr><td>test </td><td>198</td></tr>\n",
       "</tbody>\n",
       "</table>\n"
      ],
      "text/latex": [
       "A tibble: 3 × 2\n",
       "\\begin{tabular}{ll}\n",
       " set & n\\_distinct(pseudo\\_patid)\\\\\n",
       " <chr> & <int>\\\\\n",
       "\\hline\n",
       "\t train & 904\\\\\n",
       "\t val   & 170\\\\\n",
       "\t test  & 198\\\\\n",
       "\\end{tabular}\n"
      ],
      "text/markdown": [
       "\n",
       "A tibble: 3 × 2\n",
       "\n",
       "| set &lt;chr&gt; | n_distinct(pseudo_patid) &lt;int&gt; |\n",
       "|---|---|\n",
       "| train | 904 |\n",
       "| val   | 170 |\n",
       "| test  | 198 |\n",
       "\n"
      ],
      "text/plain": [
       "  set   n_distinct(pseudo_patid)\n",
       "1 train 904                     \n",
       "2 val   170                     \n",
       "3 test  198                     "
      ]
     },
     "metadata": {},
     "output_type": "display_data"
    }
   ],
   "source": [
    "data %>%\n",
    "\tsummarize(n_distinct(pseudo_patid), .by=set)"
   ]
  },
  {
   "cell_type": "markdown",
   "metadata": {},
   "source": [
    "## Scans"
   ]
  },
  {
   "cell_type": "code",
   "execution_count": 10,
   "metadata": {
    "vscode": {
     "languageId": "r"
    }
   },
   "outputs": [
    {
     "data": {
      "text/html": [
       "<table class=\"dataframe\">\n",
       "<caption>A tibble: 3 × 3</caption>\n",
       "<thead>\n",
       "\t<tr><th scope=col>set</th><th scope=col>n</th><th scope=col>total</th></tr>\n",
       "\t<tr><th scope=col>&lt;chr&gt;</th><th scope=col>&lt;int&gt;</th><th scope=col>&lt;int&gt;</th></tr>\n",
       "</thead>\n",
       "<tbody>\n",
       "\t<tr><td>test </td><td> 200</td><td>1459</td></tr>\n",
       "\t<tr><td>train</td><td>1059</td><td>1459</td></tr>\n",
       "\t<tr><td>val  </td><td> 200</td><td>1459</td></tr>\n",
       "</tbody>\n",
       "</table>\n"
      ],
      "text/latex": [
       "A tibble: 3 × 3\n",
       "\\begin{tabular}{lll}\n",
       " set & n & total\\\\\n",
       " <chr> & <int> & <int>\\\\\n",
       "\\hline\n",
       "\t test  &  200 & 1459\\\\\n",
       "\t train & 1059 & 1459\\\\\n",
       "\t val   &  200 & 1459\\\\\n",
       "\\end{tabular}\n"
      ],
      "text/markdown": [
       "\n",
       "A tibble: 3 × 3\n",
       "\n",
       "| set &lt;chr&gt; | n &lt;int&gt; | total &lt;int&gt; |\n",
       "|---|---|---|\n",
       "| test  |  200 | 1459 |\n",
       "| train | 1059 | 1459 |\n",
       "| val   |  200 | 1459 |\n",
       "\n"
      ],
      "text/plain": [
       "  set   n    total\n",
       "1 test   200 1459 \n",
       "2 train 1059 1459 \n",
       "3 val    200 1459 "
      ]
     },
     "metadata": {},
     "output_type": "display_data"
    }
   ],
   "source": [
    "data %>% count(set) %>% mutate(total=sum(n))"
   ]
  },
  {
   "cell_type": "markdown",
   "metadata": {},
   "source": [
    "## Staging"
   ]
  },
  {
   "cell_type": "code",
   "execution_count": 11,
   "metadata": {
    "vscode": {
     "languageId": "r"
    }
   },
   "outputs": [
    {
     "data": {
      "text/html": [
       "<table class=\"dataframe\">\n",
       "<caption>A spec_tbl_df: 4 × 3</caption>\n",
       "<thead>\n",
       "\t<tr><th scope=col>staging</th><th scope=col>.by</th><th scope=col>n</th></tr>\n",
       "\t<tr><th scope=col>&lt;chr&gt;</th><th scope=col>&lt;chr&gt;</th><th scope=col>&lt;int&gt;</th></tr>\n",
       "</thead>\n",
       "<tbody>\n",
       "\t<tr><td>primary</td><td>train</td><td>222</td></tr>\n",
       "\t<tr><td>re     </td><td>test </td><td>200</td></tr>\n",
       "\t<tr><td>re     </td><td>train</td><td>837</td></tr>\n",
       "\t<tr><td>re     </td><td>val  </td><td>200</td></tr>\n",
       "</tbody>\n",
       "</table>\n"
      ],
      "text/latex": [
       "A spec\\_tbl\\_df: 4 × 3\n",
       "\\begin{tabular}{lll}\n",
       " staging & .by & n\\\\\n",
       " <chr> & <chr> & <int>\\\\\n",
       "\\hline\n",
       "\t primary & train & 222\\\\\n",
       "\t re      & test  & 200\\\\\n",
       "\t re      & train & 837\\\\\n",
       "\t re      & val   & 200\\\\\n",
       "\\end{tabular}\n"
      ],
      "text/markdown": [
       "\n",
       "A spec_tbl_df: 4 × 3\n",
       "\n",
       "| staging &lt;chr&gt; | .by &lt;chr&gt; | n &lt;int&gt; |\n",
       "|---|---|---|\n",
       "| primary | train | 222 |\n",
       "| re      | test  | 200 |\n",
       "| re      | train | 837 |\n",
       "| re      | val   | 200 |\n",
       "\n"
      ],
      "text/plain": [
       "  staging .by   n  \n",
       "1 primary train 222\n",
       "2 re      test  200\n",
       "3 re      train 837\n",
       "4 re      val   200"
      ]
     },
     "metadata": {},
     "output_type": "display_data"
    }
   ],
   "source": [
    "data %>% count(staging, .by=set)"
   ]
  },
  {
   "cell_type": "markdown",
   "metadata": {},
   "source": [
    "## Age"
   ]
  },
  {
   "cell_type": "code",
   "execution_count": 15,
   "metadata": {
    "vscode": {
     "languageId": "r"
    }
   },
   "outputs": [
    {
     "data": {
      "text/html": [
       "<table class=\"dataframe\">\n",
       "<caption>A tibble: 1 × 3</caption>\n",
       "<thead>\n",
       "\t<tr><th scope=col>mean(age)</th><th scope=col>min(age)</th><th scope=col>max(age)</th></tr>\n",
       "\t<tr><th scope=col>&lt;dbl&gt;</th><th scope=col>&lt;dbl&gt;</th><th scope=col>&lt;dbl&gt;</th></tr>\n",
       "</thead>\n",
       "<tbody>\n",
       "\t<tr><td>70.51953</td><td>44</td><td>90</td></tr>\n",
       "</tbody>\n",
       "</table>\n"
      ],
      "text/latex": [
       "A tibble: 1 × 3\n",
       "\\begin{tabular}{lll}\n",
       " mean(age) & min(age) & max(age)\\\\\n",
       " <dbl> & <dbl> & <dbl>\\\\\n",
       "\\hline\n",
       "\t 70.51953 & 44 & 90\\\\\n",
       "\\end{tabular}\n"
      ],
      "text/markdown": [
       "\n",
       "A tibble: 1 × 3\n",
       "\n",
       "| mean(age) &lt;dbl&gt; | min(age) &lt;dbl&gt; | max(age) &lt;dbl&gt; |\n",
       "|---|---|---|\n",
       "| 70.51953 | 44 | 90 |\n",
       "\n"
      ],
      "text/plain": [
       "  mean(age) min(age) max(age)\n",
       "1 70.51953  44       90      "
      ]
     },
     "metadata": {},
     "output_type": "display_data"
    }
   ],
   "source": [
    "data %>% reframe(mean(age), min(age), max(age))"
   ]
  },
  {
   "cell_type": "code",
   "execution_count": null,
   "metadata": {
    "vscode": {
     "languageId": "r"
    }
   },
   "outputs": [
    {
     "data": {
      "text/html": [
       "<table class=\"dataframe\">\n",
       "<caption>A tibble: 3 × 4</caption>\n",
       "<thead>\n",
       "\t<tr><th scope=col>set</th><th scope=col>mean(age)</th><th scope=col>min(age)</th><th scope=col>max(age)</th></tr>\n",
       "\t<tr><th scope=col>&lt;chr&gt;</th><th scope=col>&lt;dbl&gt;</th><th scope=col>&lt;dbl&gt;</th><th scope=col>&lt;dbl&gt;</th></tr>\n",
       "</thead>\n",
       "<tbody>\n",
       "\t<tr><td>train</td><td>70.28895</td><td>44</td><td>90</td></tr>\n",
       "\t<tr><td>val  </td><td>71.00000</td><td>46</td><td>89</td></tr>\n",
       "\t<tr><td>test </td><td>71.26000</td><td>53</td><td>86</td></tr>\n",
       "</tbody>\n",
       "</table>\n"
      ],
      "text/latex": [
       "A tibble: 3 × 4\n",
       "\\begin{tabular}{llll}\n",
       " set & mean(age) & min(age) & max(age)\\\\\n",
       " <chr> & <dbl> & <dbl> & <dbl>\\\\\n",
       "\\hline\n",
       "\t train & 70.28895 & 44 & 90\\\\\n",
       "\t val   & 71.00000 & 46 & 89\\\\\n",
       "\t test  & 71.26000 & 53 & 86\\\\\n",
       "\\end{tabular}\n"
      ],
      "text/markdown": [
       "\n",
       "A tibble: 3 × 4\n",
       "\n",
       "| set &lt;chr&gt; | mean(age) &lt;dbl&gt; | min(age) &lt;dbl&gt; | max(age) &lt;dbl&gt; |\n",
       "|---|---|---|---|\n",
       "| train | 70.28895 | 44 | 90 |\n",
       "| val   | 71.00000 | 46 | 89 |\n",
       "| test  | 71.26000 | 53 | 86 |\n",
       "\n"
      ],
      "text/plain": [
       "  set   mean(age) min(age) max(age)\n",
       "1 train 70.28895  44       90      \n",
       "2 val   71.00000  46       89      \n",
       "3 test  71.26000  53       86      "
      ]
     },
     "metadata": {},
     "output_type": "display_data"
    }
   ],
   "source": [
    "data %>% reframe(mean(age), min(age), max(age), .by=set)"
   ]
  },
  {
   "cell_type": "markdown",
   "metadata": {},
   "source": [
    "## Prostatectomy"
   ]
  },
  {
   "cell_type": "code",
   "execution_count": 19,
   "metadata": {
    "vscode": {
     "languageId": "r"
    }
   },
   "outputs": [
    {
     "data": {
      "text/html": [
       "<table class=\"dataframe\">\n",
       "<caption>A tibble: 1 × 2</caption>\n",
       "<thead>\n",
       "\t<tr><th scope=col>sum(px, na.rm = T)</th><th scope=col>mean(px, na.rm = T)</th></tr>\n",
       "\t<tr><th scope=col>&lt;dbl&gt;</th><th scope=col>&lt;dbl&gt;</th></tr>\n",
       "</thead>\n",
       "<tbody>\n",
       "\t<tr><td>825</td><td>0.566232</td></tr>\n",
       "</tbody>\n",
       "</table>\n"
      ],
      "text/latex": [
       "A tibble: 1 × 2\n",
       "\\begin{tabular}{ll}\n",
       " sum(px, na.rm = T) & mean(px, na.rm = T)\\\\\n",
       " <dbl> & <dbl>\\\\\n",
       "\\hline\n",
       "\t 825 & 0.566232\\\\\n",
       "\\end{tabular}\n"
      ],
      "text/markdown": [
       "\n",
       "A tibble: 1 × 2\n",
       "\n",
       "| sum(px, na.rm = T) &lt;dbl&gt; | mean(px, na.rm = T) &lt;dbl&gt; |\n",
       "|---|---|\n",
       "| 825 | 0.566232 |\n",
       "\n"
      ],
      "text/plain": [
       "  sum(px, na.rm = T) mean(px, na.rm = T)\n",
       "1 825                0.566232           "
      ]
     },
     "metadata": {},
     "output_type": "display_data"
    }
   ],
   "source": [
    "data %>% summarize(sum(px, na.rm=T), mean(px, na.rm=T))"
   ]
  },
  {
   "cell_type": "code",
   "execution_count": 18,
   "metadata": {
    "vscode": {
     "languageId": "r"
    }
   },
   "outputs": [
    {
     "data": {
      "text/html": [
       "<table class=\"dataframe\">\n",
       "<caption>A tibble: 3 × 3</caption>\n",
       "<thead>\n",
       "\t<tr><th scope=col>set</th><th scope=col>sum(px, na.rm = T)</th><th scope=col>mean(px, na.rm = T)</th></tr>\n",
       "\t<tr><th scope=col>&lt;chr&gt;</th><th scope=col>&lt;dbl&gt;</th><th scope=col>&lt;dbl&gt;</th></tr>\n",
       "</thead>\n",
       "<tbody>\n",
       "\t<tr><td>train</td><td>568</td><td>0.5363551</td></tr>\n",
       "\t<tr><td>val  </td><td>134</td><td>0.6700000</td></tr>\n",
       "\t<tr><td>test </td><td>123</td><td>0.6212121</td></tr>\n",
       "</tbody>\n",
       "</table>\n"
      ],
      "text/latex": [
       "A tibble: 3 × 3\n",
       "\\begin{tabular}{lll}\n",
       " set & sum(px, na.rm = T) & mean(px, na.rm = T)\\\\\n",
       " <chr> & <dbl> & <dbl>\\\\\n",
       "\\hline\n",
       "\t train & 568 & 0.5363551\\\\\n",
       "\t val   & 134 & 0.6700000\\\\\n",
       "\t test  & 123 & 0.6212121\\\\\n",
       "\\end{tabular}\n"
      ],
      "text/markdown": [
       "\n",
       "A tibble: 3 × 3\n",
       "\n",
       "| set &lt;chr&gt; | sum(px, na.rm = T) &lt;dbl&gt; | mean(px, na.rm = T) &lt;dbl&gt; |\n",
       "|---|---|---|\n",
       "| train | 568 | 0.5363551 |\n",
       "| val   | 134 | 0.6700000 |\n",
       "| test  | 123 | 0.6212121 |\n",
       "\n"
      ],
      "text/plain": [
       "  set   sum(px, na.rm = T) mean(px, na.rm = T)\n",
       "1 train 568                0.5363551          \n",
       "2 val   134                0.6700000          \n",
       "3 test  123                0.6212121          "
      ]
     },
     "metadata": {},
     "output_type": "display_data"
    }
   ],
   "source": [
    "data %>% summarize(sum(px, na.rm=T), mean(px, na.rm=T), .by=set)"
   ]
  },
  {
   "cell_type": "markdown",
   "metadata": {},
   "source": [
    "## PSA Level"
   ]
  },
  {
   "cell_type": "code",
   "execution_count": 23,
   "metadata": {
    "vscode": {
     "languageId": "r"
    }
   },
   "outputs": [
    {
     "data": {
      "text/html": [
       "<table class=\"dataframe\">\n",
       "<caption>A tibble: 1 × 3</caption>\n",
       "<thead>\n",
       "\t<tr><th scope=col>mean(psa, na.rm = T)</th><th scope=col>min(psa, na.rm = T)</th><th scope=col>max(psa, na.rm = T)</th></tr>\n",
       "\t<tr><th scope=col>&lt;dbl&gt;</th><th scope=col>&lt;dbl&gt;</th><th scope=col>&lt;dbl&gt;</th></tr>\n",
       "</thead>\n",
       "<tbody>\n",
       "\t<tr><td>44.25572</td><td>0</td><td>7434</td></tr>\n",
       "</tbody>\n",
       "</table>\n"
      ],
      "text/latex": [
       "A tibble: 1 × 3\n",
       "\\begin{tabular}{lll}\n",
       " mean(psa, na.rm = T) & min(psa, na.rm = T) & max(psa, na.rm = T)\\\\\n",
       " <dbl> & <dbl> & <dbl>\\\\\n",
       "\\hline\n",
       "\t 44.25572 & 0 & 7434\\\\\n",
       "\\end{tabular}\n"
      ],
      "text/markdown": [
       "\n",
       "A tibble: 1 × 3\n",
       "\n",
       "| mean(psa, na.rm = T) &lt;dbl&gt; | min(psa, na.rm = T) &lt;dbl&gt; | max(psa, na.rm = T) &lt;dbl&gt; |\n",
       "|---|---|---|\n",
       "| 44.25572 | 0 | 7434 |\n",
       "\n"
      ],
      "text/plain": [
       "  mean(psa, na.rm = T) min(psa, na.rm = T) max(psa, na.rm = T)\n",
       "1 44.25572             0                   7434               "
      ]
     },
     "metadata": {},
     "output_type": "display_data"
    }
   ],
   "source": [
    "data %>%\n",
    "\tsummarize(mean(psa, na.rm=T), min(psa, na.rm=T), max(psa, na.rm=T))"
   ]
  },
  {
   "cell_type": "code",
   "execution_count": 24,
   "metadata": {
    "vscode": {
     "languageId": "r"
    }
   },
   "outputs": [
    {
     "data": {
      "text/html": [
       "<table class=\"dataframe\">\n",
       "<caption>A tibble: 3 × 4</caption>\n",
       "<thead>\n",
       "\t<tr><th scope=col>set</th><th scope=col>mean(psa, na.rm = T)</th><th scope=col>min(psa, na.rm = T)</th><th scope=col>max(psa, na.rm = T)</th></tr>\n",
       "\t<tr><th scope=col>&lt;chr&gt;</th><th scope=col>&lt;dbl&gt;</th><th scope=col>&lt;dbl&gt;</th><th scope=col>&lt;dbl&gt;</th></tr>\n",
       "</thead>\n",
       "<tbody>\n",
       "\t<tr><td>train</td><td>45.64820</td><td>0</td><td>3420</td></tr>\n",
       "\t<tr><td>val  </td><td>51.48481</td><td>0</td><td>7434</td></tr>\n",
       "\t<tr><td>test </td><td>30.05347</td><td>0</td><td> 932</td></tr>\n",
       "</tbody>\n",
       "</table>\n"
      ],
      "text/latex": [
       "A tibble: 3 × 4\n",
       "\\begin{tabular}{llll}\n",
       " set & mean(psa, na.rm = T) & min(psa, na.rm = T) & max(psa, na.rm = T)\\\\\n",
       " <chr> & <dbl> & <dbl> & <dbl>\\\\\n",
       "\\hline\n",
       "\t train & 45.64820 & 0 & 3420\\\\\n",
       "\t val   & 51.48481 & 0 & 7434\\\\\n",
       "\t test  & 30.05347 & 0 &  932\\\\\n",
       "\\end{tabular}\n"
      ],
      "text/markdown": [
       "\n",
       "A tibble: 3 × 4\n",
       "\n",
       "| set &lt;chr&gt; | mean(psa, na.rm = T) &lt;dbl&gt; | min(psa, na.rm = T) &lt;dbl&gt; | max(psa, na.rm = T) &lt;dbl&gt; |\n",
       "|---|---|---|---|\n",
       "| train | 45.64820 | 0 | 3420 |\n",
       "| val   | 51.48481 | 0 | 7434 |\n",
       "| test  | 30.05347 | 0 |  932 |\n",
       "\n"
      ],
      "text/plain": [
       "  set   mean(psa, na.rm = T) min(psa, na.rm = T) max(psa, na.rm = T)\n",
       "1 train 45.64820             0                   3420               \n",
       "2 val   51.48481             0                   7434               \n",
       "3 test  30.05347             0                    932               "
      ]
     },
     "metadata": {},
     "output_type": "display_data"
    }
   ],
   "source": [
    "data %>%\n",
    "\tsummarize(mean(psa, na.rm=T), min(psa, na.rm=T), max(psa, na.rm=T), .by=set)"
   ]
  },
  {
   "cell_type": "markdown",
   "metadata": {
    "vscode": {
     "languageId": "r"
    }
   },
   "source": [
    "## Label"
   ]
  },
  {
   "cell_type": "code",
   "execution_count": 29,
   "metadata": {
    "vscode": {
     "languageId": "r"
    }
   },
   "outputs": [
    {
     "data": {
      "text/html": [
       "<table class=\"dataframe\">\n",
       "<caption>A tibble: 8 × 4</caption>\n",
       "<thead>\n",
       "\t<tr><th scope=col>label</th><th scope=col>set</th><th scope=col>n</th><th scope=col>total</th></tr>\n",
       "\t<tr><th scope=col>&lt;dbl&gt;</th><th scope=col>&lt;chr&gt;</th><th scope=col>&lt;int&gt;</th><th scope=col>&lt;int&gt;</th></tr>\n",
       "</thead>\n",
       "<tbody>\n",
       "\t<tr><td>0</td><td>test </td><td> 89</td><td>658</td></tr>\n",
       "\t<tr><td>0</td><td>train</td><td>460</td><td>658</td></tr>\n",
       "\t<tr><td>0</td><td>val  </td><td>109</td><td>658</td></tr>\n",
       "\t<tr><td>1</td><td>test </td><td>111</td><td>737</td></tr>\n",
       "\t<tr><td>1</td><td>train</td><td>542</td><td>737</td></tr>\n",
       "\t<tr><td>1</td><td>val  </td><td> 84</td><td>737</td></tr>\n",
       "\t<tr><td>2</td><td>train</td><td> 57</td><td> 64</td></tr>\n",
       "\t<tr><td>2</td><td>val  </td><td>  7</td><td> 64</td></tr>\n",
       "</tbody>\n",
       "</table>\n"
      ],
      "text/latex": [
       "A tibble: 8 × 4\n",
       "\\begin{tabular}{llll}\n",
       " label & set & n & total\\\\\n",
       " <dbl> & <chr> & <int> & <int>\\\\\n",
       "\\hline\n",
       "\t 0 & test  &  89 & 658\\\\\n",
       "\t 0 & train & 460 & 658\\\\\n",
       "\t 0 & val   & 109 & 658\\\\\n",
       "\t 1 & test  & 111 & 737\\\\\n",
       "\t 1 & train & 542 & 737\\\\\n",
       "\t 1 & val   &  84 & 737\\\\\n",
       "\t 2 & train &  57 &  64\\\\\n",
       "\t 2 & val   &   7 &  64\\\\\n",
       "\\end{tabular}\n"
      ],
      "text/markdown": [
       "\n",
       "A tibble: 8 × 4\n",
       "\n",
       "| label &lt;dbl&gt; | set &lt;chr&gt; | n &lt;int&gt; | total &lt;int&gt; |\n",
       "|---|---|---|---|\n",
       "| 0 | test  |  89 | 658 |\n",
       "| 0 | train | 460 | 658 |\n",
       "| 0 | val   | 109 | 658 |\n",
       "| 1 | test  | 111 | 737 |\n",
       "| 1 | train | 542 | 737 |\n",
       "| 1 | val   |  84 | 737 |\n",
       "| 2 | train |  57 |  64 |\n",
       "| 2 | val   |   7 |  64 |\n",
       "\n"
      ],
      "text/plain": [
       "  label set   n   total\n",
       "1 0     test   89 658  \n",
       "2 0     train 460 658  \n",
       "3 0     val   109 658  \n",
       "4 1     test  111 737  \n",
       "5 1     train 542 737  \n",
       "6 1     val    84 737  \n",
       "7 2     train  57  64  \n",
       "8 2     val     7  64  "
      ]
     },
     "metadata": {},
     "output_type": "display_data"
    }
   ],
   "source": [
    "data %>%\n",
    "\tcount(label, set) %>%\n",
    "\tmutate(total = sum(n), .by=label)"
   ]
  }
 ],
 "metadata": {
  "kernelspec": {
   "display_name": "R",
   "language": "R",
   "name": "ir"
  },
  "language_info": {
   "codemirror_mode": "r",
   "file_extension": ".r",
   "mimetype": "text/x-r-source",
   "name": "R",
   "pygments_lexer": "r",
   "version": "4.4.2"
  }
 },
 "nbformat": 4,
 "nbformat_minor": 2
}
