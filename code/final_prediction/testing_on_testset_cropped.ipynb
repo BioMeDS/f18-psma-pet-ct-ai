{
 "cells": [
  {
   "cell_type": "markdown",
   "metadata": {},
   "source": [
    "### Imports"
   ]
  },
  {
   "cell_type": "code",
   "execution_count": 17,
   "metadata": {},
   "outputs": [],
   "source": [
    "import monai\n",
    "from monai.data import DataLoader, Dataset\n",
    "from monai.transforms import LoadImaged, Compose, ScaleIntensityd, Resized, EnsureTyped, ConcatItemsd, ToTensord, CenterSpatialCropd, EnsureChannelFirstd\n",
    "from monai.metrics import ROCAUCMetric\n",
    "from monai.engines import SupervisedTrainer\n",
    "from monai.handlers import from_engine, CheckpointLoader\n",
    "from sklearn.preprocessing import MinMaxScaler\n",
    "\n",
    "import pandas as pd\n",
    "\n",
    "import torch\n",
    "\n",
    "from ignite.metrics import Accuracy\n",
    "\n",
    "from model_helpers import Repeatd, prepare_batch, get_additional_metrics"
   ]
  },
  {
   "cell_type": "markdown",
   "metadata": {},
   "source": [
    "### Data loading"
   ]
  },
  {
   "cell_type": "code",
   "execution_count": 2,
   "metadata": {},
   "outputs": [
    {
     "data": {
      "text/html": [
       "<div>\n",
       "<style scoped>\n",
       "    .dataframe tbody tr th:only-of-type {\n",
       "        vertical-align: middle;\n",
       "    }\n",
       "\n",
       "    .dataframe tbody tr th {\n",
       "        vertical-align: top;\n",
       "    }\n",
       "\n",
       "    .dataframe thead th {\n",
       "        text-align: right;\n",
       "    }\n",
       "</style>\n",
       "<table border=\"1\" class=\"dataframe\">\n",
       "  <thead>\n",
       "    <tr style=\"text-align: right;\">\n",
       "      <th></th>\n",
       "      <th>pseudo_id</th>\n",
       "      <th>sex</th>\n",
       "      <th>staging</th>\n",
       "      <th>px</th>\n",
       "      <th>psa</th>\n",
       "      <th>label</th>\n",
       "      <th>pseudo_patid</th>\n",
       "      <th>set</th>\n",
       "      <th>unknown</th>\n",
       "      <th>age</th>\n",
       "      <th>pet</th>\n",
       "      <th>ct</th>\n",
       "    </tr>\n",
       "  </thead>\n",
       "  <tbody>\n",
       "    <tr>\n",
       "      <th>0</th>\n",
       "      <td>T_33263</td>\n",
       "      <td>M</td>\n",
       "      <td>re</td>\n",
       "      <td>0</td>\n",
       "      <td>0.35</td>\n",
       "      <td>1</td>\n",
       "      <td>96256</td>\n",
       "      <td>test</td>\n",
       "      <td>False</td>\n",
       "      <td>68</td>\n",
       "      <td>data/cropped_nifti/T_33263_pet.nii.gz</td>\n",
       "      <td>data/cropped_nifti/T_33263_ct.nii.gz</td>\n",
       "    </tr>\n",
       "    <tr>\n",
       "      <th>1</th>\n",
       "      <td>T_71212</td>\n",
       "      <td>M</td>\n",
       "      <td>re</td>\n",
       "      <td>1</td>\n",
       "      <td>8.70</td>\n",
       "      <td>1</td>\n",
       "      <td>28134</td>\n",
       "      <td>test</td>\n",
       "      <td>True</td>\n",
       "      <td>74</td>\n",
       "      <td>data/cropped_nifti/T_71212_pet.nii.gz</td>\n",
       "      <td>data/cropped_nifti/T_71212_ct.nii.gz</td>\n",
       "    </tr>\n",
       "    <tr>\n",
       "      <th>2</th>\n",
       "      <td>T_82650</td>\n",
       "      <td>M</td>\n",
       "      <td>re</td>\n",
       "      <td>1</td>\n",
       "      <td>0.82</td>\n",
       "      <td>1</td>\n",
       "      <td>75859</td>\n",
       "      <td>test</td>\n",
       "      <td>True</td>\n",
       "      <td>70</td>\n",
       "      <td>data/cropped_nifti/T_82650_pet.nii.gz</td>\n",
       "      <td>data/cropped_nifti/T_82650_ct.nii.gz</td>\n",
       "    </tr>\n",
       "    <tr>\n",
       "      <th>3</th>\n",
       "      <td>T_23712</td>\n",
       "      <td>M</td>\n",
       "      <td>re</td>\n",
       "      <td>1</td>\n",
       "      <td>932.00</td>\n",
       "      <td>0</td>\n",
       "      <td>20584</td>\n",
       "      <td>test</td>\n",
       "      <td>False</td>\n",
       "      <td>64</td>\n",
       "      <td>data/cropped_nifti/T_23712_pet.nii.gz</td>\n",
       "      <td>data/cropped_nifti/T_23712_ct.nii.gz</td>\n",
       "    </tr>\n",
       "    <tr>\n",
       "      <th>4</th>\n",
       "      <td>T_44829</td>\n",
       "      <td>M</td>\n",
       "      <td>re</td>\n",
       "      <td>0</td>\n",
       "      <td>3.77</td>\n",
       "      <td>1</td>\n",
       "      <td>28035</td>\n",
       "      <td>test</td>\n",
       "      <td>True</td>\n",
       "      <td>81</td>\n",
       "      <td>data/cropped_nifti/T_44829_pet.nii.gz</td>\n",
       "      <td>data/cropped_nifti/T_44829_ct.nii.gz</td>\n",
       "    </tr>\n",
       "  </tbody>\n",
       "</table>\n",
       "</div>"
      ],
      "text/plain": [
       "  pseudo_id sex staging  px     psa  label  pseudo_patid   set  unknown  age  \\\n",
       "0   T_33263   M      re   0    0.35      1         96256  test    False   68   \n",
       "1   T_71212   M      re   1    8.70      1         28134  test     True   74   \n",
       "2   T_82650   M      re   1    0.82      1         75859  test     True   70   \n",
       "3   T_23712   M      re   1  932.00      0         20584  test    False   64   \n",
       "4   T_44829   M      re   0    3.77      1         28035  test     True   81   \n",
       "\n",
       "                                     pet                                    ct  \n",
       "0  data/cropped_nifti/T_33263_pet.nii.gz  data/cropped_nifti/T_33263_ct.nii.gz  \n",
       "1  data/cropped_nifti/T_71212_pet.nii.gz  data/cropped_nifti/T_71212_ct.nii.gz  \n",
       "2  data/cropped_nifti/T_82650_pet.nii.gz  data/cropped_nifti/T_82650_ct.nii.gz  \n",
       "3  data/cropped_nifti/T_23712_pet.nii.gz  data/cropped_nifti/T_23712_ct.nii.gz  \n",
       "4  data/cropped_nifti/T_44829_pet.nii.gz  data/cropped_nifti/T_44829_ct.nii.gz  "
      ]
     },
     "execution_count": 2,
     "metadata": {},
     "output_type": "execute_result"
    }
   ],
   "source": [
    "df = pd.read_csv(\"data/labels_ts2024_imp.tsv\", sep=\"\\t\")\n",
    "df = df.assign(pet=lambda df: df['pseudo_id'].map(lambda pseudo_id: \"data/cropped_nifti/\" + pseudo_id + \"_pet.nii.gz\"))\n",
    "df = df.assign(ct=lambda df: df['pseudo_id'].map(lambda pseudo_id: \"data/cropped_nifti/\" + pseudo_id + \"_ct.nii.gz\"))\n",
    "\n",
    "df.head()"
   ]
  },
  {
   "cell_type": "code",
   "execution_count": 3,
   "metadata": {},
   "outputs": [
    {
     "data": {
      "text/plain": [
       "(200, 12)"
      ]
     },
     "execution_count": 3,
     "metadata": {},
     "output_type": "execute_result"
    }
   ],
   "source": [
    "df.shape"
   ]
  },
  {
   "cell_type": "code",
   "execution_count": 4,
   "metadata": {},
   "outputs": [],
   "source": [
    "original_df = pd.read_csv(\"data/labels.tsv\", sep=\"\\t\")\n",
    "scaler = MinMaxScaler()\n",
    "scaler.fit(original_df[[\"psa\"]])\n",
    "psa_normalized = scaler.transform(df[[\"psa\"]])\n",
    "df[\"psa_norm\"] = psa_normalized"
   ]
  },
  {
   "cell_type": "markdown",
   "metadata": {},
   "source": [
    "### Create sets"
   ]
  },
  {
   "cell_type": "code",
   "execution_count": 7,
   "metadata": {},
   "outputs": [],
   "source": [
    "test_data = df.to_dict('records')"
   ]
  },
  {
   "cell_type": "markdown",
   "metadata": {},
   "source": [
    "### Defining the transforms"
   ]
  },
  {
   "cell_type": "code",
   "execution_count": 8,
   "metadata": {},
   "outputs": [],
   "source": [
    "transforms = Compose(\n",
    "    [\n",
    "        LoadImaged(keys=[\"ct\",\"pet\"]),\n",
    "        EnsureChannelFirstd(keys=[\"ct\",\"pet\"]),\n",
    "        ScaleIntensityd(keys=[\"ct\",\"pet\"]),\n",
    "        Resized(keys=[\"ct\",\"pet\"], spatial_size=(70, 70, 70)),\n",
    "        Repeatd(keys=[\"psa_norm\", \"px\"], target_size=(1, 65, 46, 69)),\n",
    "        CenterSpatialCropd(keys=[\"ct\", \"pet\"], roi_size = (65, 46, 69)),\n",
    "        EnsureTyped(keys=[\"ct\",\"pet\", \"psa_norm\", \"px\"]),  \n",
    "        ConcatItemsd(keys=[\"ct\", \"pet\", \"psa_norm\", \"px\"], name=\"petct\", dim=0),  \n",
    "                                              \n",
    "        ToTensord(keys=[\"petct\", \"ct\", \"pet\"]),\n",
    "    ]\n",
    ") "
   ]
  },
  {
   "cell_type": "markdown",
   "metadata": {},
   "source": [
    "### Create data loaders"
   ]
  },
  {
   "cell_type": "code",
   "execution_count": 9,
   "metadata": {},
   "outputs": [],
   "source": [
    "batchsize = 16"
   ]
  },
  {
   "cell_type": "code",
   "execution_count": 11,
   "metadata": {},
   "outputs": [],
   "source": [
    "test_ds = Dataset(data=test_data, transform=transforms)\n",
    "test_loader = DataLoader(test_ds, batch_size=batchsize, num_workers=1, pin_memory=torch.cuda.is_available())"
   ]
  },
  {
   "cell_type": "markdown",
   "metadata": {},
   "source": [
    "### Create model"
   ]
  },
  {
   "cell_type": "code",
   "execution_count": 12,
   "metadata": {},
   "outputs": [],
   "source": [
    "device = torch.device(\"cuda:1\" if torch.cuda.is_available() else \"cpu\")\n",
    "model = monai.networks.nets.DenseNet121(spatial_dims=3, in_channels=4, out_channels=2).to(device)\n",
    "loss_function = torch.nn.CrossEntropyLoss()\n",
    "optimizer = torch.optim.Adam(model.parameters(), 1e-5)\n",
    "auc_metric = ROCAUCMetric()"
   ]
  },
  {
   "cell_type": "markdown",
   "metadata": {},
   "source": [
    "### Use SupervisedTrainer"
   ]
  },
  {
   "cell_type": "markdown",
   "metadata": {},
   "source": [
    "##### Create handlers + Trainer and Evaluator"
   ]
  },
  {
   "cell_type": "code",
   "execution_count": 18,
   "metadata": {},
   "outputs": [],
   "source": [
    "trainer = SupervisedTrainer(\n",
    "    device = device,\n",
    "    max_epochs = 15,\n",
    "    train_data_loader = test_loader,\n",
    "    network = model,\n",
    "    optimizer = optimizer,\n",
    "    loss_function = loss_function,\n",
    "    prepare_batch = prepare_batch,\n",
    "    key_train_metric = {\"train_acc\": Accuracy(output_transform=from_engine([\"pred\", \"label\"]))},\n",
    "\t\tadditional_metrics=get_additional_metrics(\"test\"),\n",
    "    amp = False\n",
    ")"
   ]
  },
  {
   "cell_type": "markdown",
   "metadata": {},
   "source": [
    "### Prediction"
   ]
  },
  {
   "cell_type": "code",
   "execution_count": 19,
   "metadata": {},
   "outputs": [
    {
     "name": "stderr",
     "output_type": "stream",
     "text": [
      "/home/iimog/miniforge3/envs/f18-psma-pet-ct-ai/lib/python3.12/site-packages/monai/handlers/checkpoint_loader.py:125: FutureWarning: You are using `torch.load` with `weights_only=False` (the current default value), which uses the default pickle module implicitly. It is possible to construct malicious pickle data which will execute arbitrary code during unpickling (See https://github.com/pytorch/pytorch/blob/main/SECURITY.md#untrusted-models for more details). In a future release, the default value for `weights_only` will be flipped to `True`. This limits the functions that could be executed during unpickling. Arbitrary objects will no longer be allowed to be loaded via this mode unless they are explicitly allowlisted by the user via `torch.serialization.add_safe_globals`. We recommend you start setting `weights_only=True` for any use case where you don't have full control of the loaded file. Please open an issue on GitHub for any issues related to this experimental feature.\n",
      "  checkpoint = torch.load(self.load_path, map_location=self.map_location)\n"
     ]
    }
   ],
   "source": [
    "handler = CheckpointLoader(f\"runs/model_D/checkpoint_epoch=4.pt\", load_dict={\"net\": model, \"opt\": optimizer})\n",
    "handler(trainer)"
   ]
  },
  {
   "cell_type": "code",
   "execution_count": 22,
   "metadata": {
    "scrolled": true
   },
   "outputs": [
    {
     "name": "stdout",
     "output_type": "stream",
     "text": [
      "T_33263 1\n",
      "T_71212 0\n",
      "T_82650 0\n",
      "T_23712 0\n",
      "T_44829 1\n",
      "T_89795 0\n",
      "T_43412 0\n",
      "T_86419 0\n",
      "T_28330 0\n",
      "T_75117 1\n",
      "T_02513 0\n",
      "T_41025 0\n",
      "T_24242 0\n",
      "T_15014 1\n",
      "T_86015 0\n",
      "T_61820 0\n",
      "T_62629 0\n",
      "T_90149 0\n",
      "T_08645 0\n",
      "T_06614 0\n",
      "T_86271 1\n",
      "T_53582 0\n",
      "T_56253 0\n",
      "T_88700 1\n",
      "T_13953 0\n",
      "T_77949 0\n",
      "T_88000 0\n",
      "T_00321 0\n",
      "T_14075 0\n",
      "T_06700 0\n",
      "T_59741 0\n",
      "T_83904 0\n",
      "T_73383 0\n",
      "T_02449 1\n",
      "T_40131 0\n",
      "T_00202 0\n",
      "T_37996 1\n",
      "T_55935 0\n",
      "T_69619 0\n",
      "T_54173 1\n",
      "T_62099 1\n",
      "T_73742 0\n",
      "T_95726 1\n",
      "T_73200 0\n",
      "T_05666 1\n",
      "T_84574 0\n",
      "T_91579 1\n",
      "T_86649 0\n",
      "T_22240 0\n",
      "T_86404 1\n",
      "T_07593 1\n",
      "T_75877 0\n",
      "T_41516 1\n",
      "T_17737 0\n",
      "T_67652 1\n",
      "T_14316 0\n",
      "T_37239 0\n",
      "T_79624 1\n",
      "T_52440 0\n",
      "T_90251 0\n",
      "T_00758 0\n",
      "T_57485 1\n",
      "T_46507 1\n",
      "T_78867 1\n",
      "T_30295 1\n",
      "T_51110 1\n",
      "T_01120 0\n",
      "T_52986 0\n",
      "T_04831 1\n",
      "T_22941 1\n",
      "T_27435 1\n",
      "T_94201 0\n",
      "T_10857 0\n",
      "T_14757 1\n",
      "T_48388 1\n",
      "T_09628 1\n",
      "T_09646 1\n",
      "T_56919 0\n",
      "T_97180 0\n",
      "T_28375 0\n",
      "T_67370 1\n",
      "T_53915 1\n",
      "T_04557 0\n",
      "T_98987 0\n",
      "T_34340 0\n",
      "T_83804 0\n",
      "T_33335 1\n",
      "T_68767 0\n",
      "T_73122 1\n",
      "T_04911 0\n",
      "T_15619 0\n",
      "T_73503 0\n",
      "T_20333 1\n",
      "T_40054 0\n",
      "T_61428 0\n",
      "T_72936 0\n",
      "T_50183 0\n",
      "T_71687 1\n",
      "T_37295 1\n",
      "T_96039 0\n",
      "T_26530 1\n",
      "T_21567 1\n",
      "T_12120 0\n",
      "T_71274 1\n",
      "T_70193 0\n",
      "T_18319 0\n",
      "T_02286 0\n",
      "T_33372 0\n",
      "T_24915 1\n",
      "T_99226 0\n",
      "T_78764 1\n",
      "T_39001 1\n",
      "T_73148 1\n",
      "T_45112 1\n",
      "T_41186 0\n",
      "T_11318 1\n",
      "T_38929 0\n",
      "T_36284 1\n",
      "T_97427 0\n",
      "T_64664 0\n",
      "T_61040 0\n",
      "T_81815 0\n",
      "T_69872 0\n",
      "T_63401 1\n",
      "T_30740 0\n",
      "T_45753 1\n",
      "T_43954 0\n",
      "T_05358 0\n",
      "T_56420 1\n",
      "T_02586 1\n",
      "T_19266 0\n",
      "T_62522 0\n",
      "T_77344 0\n",
      "T_27730 0\n",
      "T_96626 1\n",
      "T_22172 0\n",
      "T_61450 1\n",
      "T_44485 0\n",
      "T_42672 0\n",
      "T_43186 1\n",
      "T_15039 1\n",
      "T_65049 0\n",
      "T_25540 0\n",
      "T_05383 1\n",
      "T_97331 1\n",
      "T_24782 0\n",
      "T_19626 0\n",
      "T_16515 1\n",
      "T_04960 1\n",
      "T_06434 0\n",
      "T_22706 0\n",
      "T_41785 0\n",
      "T_70029 1\n",
      "T_73964 1\n",
      "T_55797 0\n",
      "T_66651 0\n",
      "T_41155 0\n",
      "T_27856 0\n",
      "T_98838 1\n",
      "T_16265 0\n",
      "T_63252 1\n",
      "T_88509 0\n",
      "T_99352 0\n",
      "T_61097 0\n",
      "T_18274 0\n",
      "T_88112 0\n",
      "T_78628 0\n",
      "T_40033 0\n",
      "T_37107 0\n",
      "T_83848 1\n",
      "T_70311 0\n",
      "T_55852 0\n",
      "T_10435 0\n",
      "T_78924 1\n",
      "T_99451 0\n",
      "T_45686 0\n",
      "T_85899 0\n",
      "T_37117 1\n",
      "T_98633 1\n",
      "T_20947 0\n",
      "T_40469 0\n",
      "T_93181 1\n",
      "T_79244 1\n",
      "T_98976 1\n",
      "T_14179 0\n",
      "T_75341 0\n",
      "T_82570 0\n",
      "T_82179 1\n",
      "T_78762 0\n",
      "T_21325 0\n",
      "T_04846 0\n",
      "T_15916 1\n",
      "T_93136 0\n",
      "T_16078 0\n",
      "T_60216 0\n",
      "T_05494 0\n",
      "T_23751 0\n",
      "T_83297 0\n",
      "T_78057 1\n",
      "T_27477 0\n"
     ]
    }
   ],
   "source": [
    "model.eval()\n",
    "for batch in iter(test_loader):\n",
    "    IDs = batch[\"pseudo_id\"]\n",
    "    Preds = model(batch[\"petct\"].to(device)).argmax(dim=1)\n",
    "    for ID, Pred in zip(IDs, Preds):\n",
    "        df.loc[df.pseudo_id == ID, 'prediction'] = Pred.item()\n",
    "        print(ID, Pred.item())\n",
    "model.train();"
   ]
  },
  {
   "cell_type": "code",
   "execution_count": 23,
   "metadata": {},
   "outputs": [],
   "source": [
    "df.to_csv(path_or_buf=\"analysis/testset_predictions.tsv\", sep=\"\\t\", index=False)"
   ]
  },
  {
   "cell_type": "code",
   "execution_count": 36,
   "metadata": {},
   "outputs": [
    {
     "data": {
      "text/plain": [
       "label  prediction\n",
       "0      0.0           79\n",
       "1      1.0           63\n",
       "       0.0           48\n",
       "0      1.0           10\n",
       "Name: count, dtype: int64"
      ]
     },
     "execution_count": 36,
     "metadata": {},
     "output_type": "execute_result"
    }
   ],
   "source": [
    "cm = df.value_counts([\"label\", \"prediction\"])\n",
    "cm"
   ]
  },
  {
   "cell_type": "code",
   "execution_count": 47,
   "metadata": {},
   "outputs": [
    {
     "data": {
      "text/plain": [
       "(np.int64(63), np.int64(48), np.int64(10), np.int64(79))"
      ]
     },
     "execution_count": 47,
     "metadata": {},
     "output_type": "execute_result"
    }
   ],
   "source": [
    "tn = cm[0,0]\n",
    "fn = cm[0,1]\n",
    "tp = cm[1,1]\n",
    "fp = cm[1,0]\n",
    "tp, fp, fn, tn"
   ]
  },
  {
   "cell_type": "code",
   "execution_count": 25,
   "metadata": {},
   "outputs": [],
   "source": [
    "from sklearn.metrics import balanced_accuracy_score, accuracy_score"
   ]
  },
  {
   "cell_type": "code",
   "execution_count": 26,
   "metadata": {},
   "outputs": [
    {
     "data": {
      "text/plain": [
       "0.71"
      ]
     },
     "execution_count": 26,
     "metadata": {},
     "output_type": "execute_result"
    }
   ],
   "source": [
    "accuracy_score(df.label, df.prediction)"
   ]
  },
  {
   "cell_type": "code",
   "execution_count": 30,
   "metadata": {},
   "outputs": [
    {
     "data": {
      "text/plain": [
       "0.7276040085028849"
      ]
     },
     "execution_count": 30,
     "metadata": {},
     "output_type": "execute_result"
    }
   ],
   "source": [
    "balanced_accuracy_score(df.label, df.prediction).item()"
   ]
  },
  {
   "cell_type": "code",
   "execution_count": 46,
   "metadata": {},
   "outputs": [
    {
     "name": "stdout",
     "output_type": "stream",
     "text": [
      "specificity = 0.6220472440944882\n",
      "sensitivity = 0.863013698630137\n"
     ]
    }
   ],
   "source": [
    "specificity = tn/(tn+fp)\n",
    "sensitivity = tp/(tp+fn)\n",
    "print(f\"specificity = {specificity}\")\n",
    "print(f\"sensitivity = {sensitivity}\")"
   ]
  },
  {
   "cell_type": "code",
   "execution_count": 32,
   "metadata": {},
   "outputs": [],
   "source": [
    "dfu = df[df.unknown]\n",
    "dfk = df[~df.unknown]"
   ]
  },
  {
   "cell_type": "code",
   "execution_count": 33,
   "metadata": {},
   "outputs": [
    {
     "data": {
      "text/plain": [
       "((116, 14), (84, 14))"
      ]
     },
     "execution_count": 33,
     "metadata": {},
     "output_type": "execute_result"
    }
   ],
   "source": [
    "dfu.shape, dfk.shape"
   ]
  },
  {
   "cell_type": "code",
   "execution_count": 34,
   "metadata": {},
   "outputs": [
    {
     "data": {
      "text/plain": [
       "0.7413793103448276"
      ]
     },
     "execution_count": 34,
     "metadata": {},
     "output_type": "execute_result"
    }
   ],
   "source": [
    "accuracy_score(dfu.label, dfu.prediction)"
   ]
  },
  {
   "cell_type": "code",
   "execution_count": 35,
   "metadata": {},
   "outputs": [
    {
     "data": {
      "text/plain": [
       "0.6666666666666666"
      ]
     },
     "execution_count": 35,
     "metadata": {},
     "output_type": "execute_result"
    }
   ],
   "source": [
    "accuracy_score(dfk.label, dfk.prediction)"
   ]
  }
 ],
 "metadata": {
  "kernelspec": {
   "display_name": "f18-psma-pet-ct-ai",
   "language": "python",
   "name": "python3"
  },
  "language_info": {
   "codemirror_mode": {
    "name": "ipython",
    "version": 3
   },
   "file_extension": ".py",
   "mimetype": "text/x-python",
   "name": "python",
   "nbconvert_exporter": "python",
   "pygments_lexer": "ipython3",
   "version": "3.12.3"
  }
 },
 "nbformat": 4,
 "nbformat_minor": 4
}
