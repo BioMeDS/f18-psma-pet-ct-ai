{
 "cells": [
  {
   "cell_type": "code",
   "execution_count": 1,
   "metadata": {
    "vscode": {
     "languageId": "r"
    }
   },
   "outputs": [
    {
     "name": "stderr",
     "output_type": "stream",
     "text": [
      "── \u001b[1mAttaching core tidyverse packages\u001b[22m ──────────────────────── tidyverse 2.0.0 ──\n",
      "\u001b[32m✔\u001b[39m \u001b[34mdplyr    \u001b[39m 1.1.4     \u001b[32m✔\u001b[39m \u001b[34mreadr    \u001b[39m 2.1.5\n",
      "\u001b[32m✔\u001b[39m \u001b[34mforcats  \u001b[39m 1.0.0     \u001b[32m✔\u001b[39m \u001b[34mstringr  \u001b[39m 1.5.1\n",
      "\u001b[32m✔\u001b[39m \u001b[34mggplot2  \u001b[39m 3.5.1     \u001b[32m✔\u001b[39m \u001b[34mtibble   \u001b[39m 3.2.1\n",
      "\u001b[32m✔\u001b[39m \u001b[34mlubridate\u001b[39m 1.9.4     \u001b[32m✔\u001b[39m \u001b[34mtidyr    \u001b[39m 1.3.1\n",
      "\u001b[32m✔\u001b[39m \u001b[34mpurrr    \u001b[39m 1.0.4     \n",
      "── \u001b[1mConflicts\u001b[22m ────────────────────────────────────────── tidyverse_conflicts() ──\n",
      "\u001b[31m✖\u001b[39m \u001b[34mdplyr\u001b[39m::\u001b[32mfilter()\u001b[39m masks \u001b[34mstats\u001b[39m::filter()\n",
      "\u001b[31m✖\u001b[39m \u001b[34mdplyr\u001b[39m::\u001b[32mlag()\u001b[39m    masks \u001b[34mstats\u001b[39m::lag()\n",
      "\u001b[36mℹ\u001b[39m Use the conflicted package (\u001b[3m\u001b[34m<http://conflicted.r-lib.org/>\u001b[39m\u001b[23m) to force all conflicts to become errors\n"
     ]
    }
   ],
   "source": [
    "library(tidyverse)\n",
    "library(patchwork)"
   ]
  },
  {
   "cell_type": "code",
   "execution_count": 2,
   "metadata": {
    "vscode": {
     "languageId": "r"
    }
   },
   "outputs": [
    {
     "name": "stderr",
     "output_type": "stream",
     "text": [
      "\u001b[1mRows: \u001b[22m\u001b[34m15\u001b[39m \u001b[1mColumns: \u001b[22m\u001b[34m22\u001b[39m\n",
      "\u001b[36m──\u001b[39m \u001b[1mColumn specification\u001b[22m \u001b[36m────────────────────────────────────────────────────────\u001b[39m\n",
      "\u001b[1mDelimiter:\u001b[22m \"\\t\"\n",
      "\u001b[32mdbl\u001b[39m (21): step, train_acc, train_auc, train_bal_acc, train_fn, train_fp, tra...\n",
      "\u001b[33mlgl\u001b[39m  (1): selected_epoch\n",
      "\n",
      "\u001b[36mℹ\u001b[39m Use `spec()` to retrieve the full column specification for this data.\n",
      "\u001b[36mℹ\u001b[39m Specify the column types or set `show_col_types = FALSE` to quiet this message.\n",
      "\u001b[1mRows: \u001b[22m\u001b[34m15\u001b[39m \u001b[1mColumns: \u001b[22m\u001b[34m22\u001b[39m\n",
      "\u001b[36m──\u001b[39m \u001b[1mColumn specification\u001b[22m \u001b[36m────────────────────────────────────────────────────────\u001b[39m\n",
      "\u001b[1mDelimiter:\u001b[22m \"\\t\"\n",
      "\u001b[32mdbl\u001b[39m (21): step, train_acc, train_auc, train_bal_acc, train_fn, train_fp, tra...\n",
      "\u001b[33mlgl\u001b[39m  (1): selected_epoch\n",
      "\n",
      "\u001b[36mℹ\u001b[39m Use `spec()` to retrieve the full column specification for this data.\n",
      "\u001b[36mℹ\u001b[39m Specify the column types or set `show_col_types = FALSE` to quiet this message.\n",
      "\u001b[1mRows: \u001b[22m\u001b[34m15\u001b[39m \u001b[1mColumns: \u001b[22m\u001b[34m22\u001b[39m\n",
      "\u001b[36m──\u001b[39m \u001b[1mColumn specification\u001b[22m \u001b[36m────────────────────────────────────────────────────────\u001b[39m\n",
      "\u001b[1mDelimiter:\u001b[22m \"\\t\"\n",
      "\u001b[32mdbl\u001b[39m (21): step, train_acc, train_auc, train_bal_acc, train_fn, train_fp, tra...\n",
      "\u001b[33mlgl\u001b[39m  (1): selected_epoch\n",
      "\n",
      "\u001b[36mℹ\u001b[39m Use `spec()` to retrieve the full column specification for this data.\n",
      "\u001b[36mℹ\u001b[39m Specify the column types or set `show_col_types = FALSE` to quiet this message.\n",
      "\u001b[1mRows: \u001b[22m\u001b[34m15\u001b[39m \u001b[1mColumns: \u001b[22m\u001b[34m22\u001b[39m\n",
      "\u001b[36m──\u001b[39m \u001b[1mColumn specification\u001b[22m \u001b[36m────────────────────────────────────────────────────────\u001b[39m\n",
      "\u001b[1mDelimiter:\u001b[22m \"\\t\"\n",
      "\u001b[32mdbl\u001b[39m (21): step, train_acc, train_auc, train_bal_acc, train_fn, train_fp, tra...\n",
      "\u001b[33mlgl\u001b[39m  (1): selected_epoch\n",
      "\n",
      "\u001b[36mℹ\u001b[39m Use `spec()` to retrieve the full column specification for this data.\n",
      "\u001b[36mℹ\u001b[39m Specify the column types or set `show_col_types = FALSE` to quiet this message.\n"
     ]
    }
   ],
   "source": [
    "letter = c(\"A\", \"B\", \"C\", \"D\")\n",
    "models = str_glue(\"runs/model_{letter}/metrics.tsv\")\n",
    "names(models) = letter\n",
    "data <- models |> map_df(read_tsv, .id=\"model\")"
   ]
  },
  {
   "cell_type": "code",
   "execution_count": 3,
   "metadata": {
    "vscode": {
     "languageId": "r"
    }
   },
   "outputs": [],
   "source": [
    "confmat <- data |>\n",
    "\tfilter(selected_epoch) |>\n",
    "\tselect(model, val_tp, val_tn, val_fp, val_fn) |>\n",
    "\tmutate(set=\"val\") |>\n",
    "\tpivot_longer(names_to=\"metric\", values_to=\"value\", starts_with(\"val_\")) |>\n",
    "\tmutate(\n",
    "\t\tmetric=str_remove(metric,\"val_\"),\n",
    "\t\tprediction=as.factor(str_ends(metric,\"p\")+0),\n",
    "\t\tlabel=as.factor(metric %in% c(\"tp\",\"fn\")+0)\n",
    "\t) |>\n",
    "\tidentity()"
   ]
  },
  {
   "cell_type": "code",
   "execution_count": 4,
   "metadata": {
    "vscode": {
     "languageId": "r"
    }
   },
   "outputs": [
    {
     "data": {
      "text/html": [
       "<table class=\"dataframe\">\n",
       "<caption>A tibble: 16 × 6</caption>\n",
       "<thead>\n",
       "\t<tr><th scope=col>model</th><th scope=col>set</th><th scope=col>metric</th><th scope=col>value</th><th scope=col>prediction</th><th scope=col>label</th></tr>\n",
       "\t<tr><th scope=col>&lt;chr&gt;</th><th scope=col>&lt;chr&gt;</th><th scope=col>&lt;chr&gt;</th><th scope=col>&lt;dbl&gt;</th><th scope=col>&lt;fct&gt;</th><th scope=col>&lt;fct&gt;</th></tr>\n",
       "</thead>\n",
       "<tbody>\n",
       "\t<tr><td>A</td><td>val</td><td>tp</td><td>  0</td><td>1</td><td>1</td></tr>\n",
       "\t<tr><td>A</td><td>val</td><td>tn</td><td>102</td><td>0</td><td>0</td></tr>\n",
       "\t<tr><td>A</td><td>val</td><td>fp</td><td>  1</td><td>1</td><td>0</td></tr>\n",
       "\t<tr><td>A</td><td>val</td><td>fn</td><td> 78</td><td>0</td><td>1</td></tr>\n",
       "\t<tr><td>B</td><td>val</td><td>tp</td><td> 37</td><td>1</td><td>1</td></tr>\n",
       "\t<tr><td>B</td><td>val</td><td>tn</td><td> 91</td><td>0</td><td>0</td></tr>\n",
       "\t<tr><td>B</td><td>val</td><td>fp</td><td> 12</td><td>1</td><td>0</td></tr>\n",
       "\t<tr><td>B</td><td>val</td><td>fn</td><td> 41</td><td>0</td><td>1</td></tr>\n",
       "\t<tr><td>C</td><td>val</td><td>tp</td><td> 40</td><td>1</td><td>1</td></tr>\n",
       "\t<tr><td>C</td><td>val</td><td>tn</td><td> 87</td><td>0</td><td>0</td></tr>\n",
       "\t<tr><td>C</td><td>val</td><td>fp</td><td> 11</td><td>1</td><td>0</td></tr>\n",
       "\t<tr><td>C</td><td>val</td><td>fn</td><td> 28</td><td>0</td><td>1</td></tr>\n",
       "\t<tr><td>D</td><td>val</td><td>tp</td><td> 38</td><td>1</td><td>1</td></tr>\n",
       "\t<tr><td>D</td><td>val</td><td>tn</td><td> 90</td><td>0</td><td>0</td></tr>\n",
       "\t<tr><td>D</td><td>val</td><td>fp</td><td>  8</td><td>1</td><td>0</td></tr>\n",
       "\t<tr><td>D</td><td>val</td><td>fn</td><td> 30</td><td>0</td><td>1</td></tr>\n",
       "</tbody>\n",
       "</table>\n"
      ],
      "text/latex": [
       "A tibble: 16 × 6\n",
       "\\begin{tabular}{llllll}\n",
       " model & set & metric & value & prediction & label\\\\\n",
       " <chr> & <chr> & <chr> & <dbl> & <fct> & <fct>\\\\\n",
       "\\hline\n",
       "\t A & val & tp &   0 & 1 & 1\\\\\n",
       "\t A & val & tn & 102 & 0 & 0\\\\\n",
       "\t A & val & fp &   1 & 1 & 0\\\\\n",
       "\t A & val & fn &  78 & 0 & 1\\\\\n",
       "\t B & val & tp &  37 & 1 & 1\\\\\n",
       "\t B & val & tn &  91 & 0 & 0\\\\\n",
       "\t B & val & fp &  12 & 1 & 0\\\\\n",
       "\t B & val & fn &  41 & 0 & 1\\\\\n",
       "\t C & val & tp &  40 & 1 & 1\\\\\n",
       "\t C & val & tn &  87 & 0 & 0\\\\\n",
       "\t C & val & fp &  11 & 1 & 0\\\\\n",
       "\t C & val & fn &  28 & 0 & 1\\\\\n",
       "\t D & val & tp &  38 & 1 & 1\\\\\n",
       "\t D & val & tn &  90 & 0 & 0\\\\\n",
       "\t D & val & fp &   8 & 1 & 0\\\\\n",
       "\t D & val & fn &  30 & 0 & 1\\\\\n",
       "\\end{tabular}\n"
      ],
      "text/markdown": [
       "\n",
       "A tibble: 16 × 6\n",
       "\n",
       "| model &lt;chr&gt; | set &lt;chr&gt; | metric &lt;chr&gt; | value &lt;dbl&gt; | prediction &lt;fct&gt; | label &lt;fct&gt; |\n",
       "|---|---|---|---|---|---|\n",
       "| A | val | tp |   0 | 1 | 1 |\n",
       "| A | val | tn | 102 | 0 | 0 |\n",
       "| A | val | fp |   1 | 1 | 0 |\n",
       "| A | val | fn |  78 | 0 | 1 |\n",
       "| B | val | tp |  37 | 1 | 1 |\n",
       "| B | val | tn |  91 | 0 | 0 |\n",
       "| B | val | fp |  12 | 1 | 0 |\n",
       "| B | val | fn |  41 | 0 | 1 |\n",
       "| C | val | tp |  40 | 1 | 1 |\n",
       "| C | val | tn |  87 | 0 | 0 |\n",
       "| C | val | fp |  11 | 1 | 0 |\n",
       "| C | val | fn |  28 | 0 | 1 |\n",
       "| D | val | tp |  38 | 1 | 1 |\n",
       "| D | val | tn |  90 | 0 | 0 |\n",
       "| D | val | fp |   8 | 1 | 0 |\n",
       "| D | val | fn |  30 | 0 | 1 |\n",
       "\n"
      ],
      "text/plain": [
       "   model set metric value prediction label\n",
       "1  A     val tp       0   1          1    \n",
       "2  A     val tn     102   0          0    \n",
       "3  A     val fp       1   1          0    \n",
       "4  A     val fn      78   0          1    \n",
       "5  B     val tp      37   1          1    \n",
       "6  B     val tn      91   0          0    \n",
       "7  B     val fp      12   1          0    \n",
       "8  B     val fn      41   0          1    \n",
       "9  C     val tp      40   1          1    \n",
       "10 C     val tn      87   0          0    \n",
       "11 C     val fp      11   1          0    \n",
       "12 C     val fn      28   0          1    \n",
       "13 D     val tp      38   1          1    \n",
       "14 D     val tn      90   0          0    \n",
       "15 D     val fp       8   1          0    \n",
       "16 D     val fn      30   0          1    "
      ]
     },
     "metadata": {},
     "output_type": "display_data"
    }
   ],
   "source": [
    "confmat"
   ]
  },
  {
   "cell_type": "code",
   "execution_count": 5,
   "metadata": {
    "vscode": {
     "languageId": "r"
    }
   },
   "outputs": [],
   "source": [
    "plt_val <- confmat |>\n",
    "\tmutate(model = str_glue(\"model {model}\")) |>\n",
    "\tggplot(aes(x=label, y=prediction, fill=value, label=value)) +\n",
    "\tgeom_tile() +\n",
    "\tgeom_text() +\n",
    "\tscale_fill_distiller(palette=\"Blues\",direction = 1) +\n",
    "\tfacet_grid(~model) +\n",
    "\ttheme_minimal() +\n",
    "\ttheme(legend.position = \"none\", panel.grid.major = element_blank(), plot.title = element_text(hjust = 0.5)) +\n",
    "\tscale_y_discrete(limits=rev) +\n",
    "\tcoord_fixed() +\n",
    "\tggtitle(\"Validation Set\")"
   ]
  },
  {
   "cell_type": "code",
   "execution_count": 6,
   "metadata": {
    "vscode": {
     "languageId": "r"
    }
   },
   "outputs": [
    {
     "name": "stderr",
     "output_type": "stream",
     "text": [
      "\u001b[1mRows: \u001b[22m\u001b[34m200\u001b[39m \u001b[1mColumns: \u001b[22m\u001b[34m14\u001b[39m\n",
      "\u001b[36m──\u001b[39m \u001b[1mColumn specification\u001b[22m \u001b[36m────────────────────────────────────────────────────────\u001b[39m\n",
      "\u001b[1mDelimiter:\u001b[22m \"\\t\"\n",
      "\u001b[31mchr\u001b[39m (6): pseudo_id, sex, staging, set, pet, ct\n",
      "\u001b[32mdbl\u001b[39m (7): px, psa, label, pseudo_patid, age, psa_norm, prediction\n",
      "\u001b[33mlgl\u001b[39m (1): unknown\n",
      "\n",
      "\u001b[36mℹ\u001b[39m Use `spec()` to retrieve the full column specification for this data.\n",
      "\u001b[36mℹ\u001b[39m Specify the column types or set `show_col_types = FALSE` to quiet this message.\n"
     ]
    }
   ],
   "source": [
    "plt_test <- read_tsv(\"analysis/testset_predictions.tsv\") |>\n",
    "\tcount(label,prediction,name=\"value\") |>\n",
    "\tmutate(label=as.factor(label), prediction=as.factor(prediction), model=\"model D\") |>\n",
    "\tggplot(aes(x=label, y=prediction, fill=value, label=value)) +\n",
    "\tgeom_tile() +\n",
    "\tgeom_text() +\n",
    "\tscale_fill_distiller(palette=\"Blues\",direction = 1) +\n",
    "\tfacet_grid(~model, space=\"free\") +\n",
    "\ttheme_minimal() +\n",
    "\ttheme(legend.position = \"none\", panel.grid.major = element_blank(), plot.title = element_text(hjust = 0.5)) +\n",
    "\tscale_y_discrete(limits=rev) +\n",
    "\tcoord_fixed() +\n",
    "\tggtitle(\"Test Set\")"
   ]
  },
  {
   "cell_type": "code",
   "execution_count": 7,
   "metadata": {
    "vscode": {
     "languageId": "r"
    }
   },
   "outputs": [],
   "source": [
    "options(repr.plot.width=11, repr.plot.height=3, repr.plot.res=150)"
   ]
  },
  {
   "cell_type": "code",
   "execution_count": 8,
   "metadata": {
    "vscode": {
     "languageId": "r"
    }
   },
   "outputs": [
    {
     "data": {
      "image/png": "[encoded data removed]",
      "text/plain": [
       "plot without title"
      ]
     },
     "metadata": {
      "image/png": {
       "height": 225,
       "width": 825
      }
     },
     "output_type": "display_data"
    }
   ],
   "source": [
    "plt_val + plt_test + plot_layout(widths = c(4,1))"
   ]
  },
  {
   "cell_type": "code",
   "execution_count": 9,
   "metadata": {
    "vscode": {
     "languageId": "r"
    }
   },
   "outputs": [],
   "source": [
    "ggsave(\"analysis/confusion_matrix.svg\", width = 11, height = 3)"
   ]
  }
 ],
 "metadata": {
  "kernelspec": {
   "display_name": "R",
   "language": "R",
   "name": "ir"
  },
  "language_info": {
   "codemirror_mode": "r",
   "file_extension": ".r",
   "mimetype": "text/x-r-source",
   "name": "R",
   "pygments_lexer": "r",
   "version": "4.4.2"
  }
 },
 "nbformat": 4,
 "nbformat_minor": 2
}
